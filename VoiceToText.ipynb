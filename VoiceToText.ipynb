{
  "nbformat": 4,
  "nbformat_minor": 0,
  "metadata": {
    "colab": {
      "private_outputs": true,
      "provenance": [],
      "authorship_tag": "ABX9TyMUzkaEHM6idDvshB/wwP0X",
      "include_colab_link": true
    },
    "kernelspec": {
      "name": "python3",
      "display_name": "Python 3"
    },
    "language_info": {
      "name": "python"
    }
  },
  "cells": [
    {
      "cell_type": "markdown",
      "metadata": {
        "id": "view-in-github",
        "colab_type": "text"
      },
      "source": [
        "<a href=\"https://colab.research.google.com/github/Fuenfgeld/LLM-Utility-Cookbook/blob/main/VoiceToText.ipynb\" target=\"_parent\"><img src=\"https://colab.research.google.com/assets/colab-badge.svg\" alt=\"Open In Colab\"/></a>"
      ]
    },
    {
      "cell_type": "code",
      "execution_count": null,
      "metadata": {
        "id": "7G8Sqv-59HYl"
      },
      "outputs": [],
      "source": [
        "!pip install ipywebrtc\n",
        "!pip install pydub\n",
        "!pip install openai"
      ]
    },
    {
      "cell_type": "code",
      "source": [
        "!apt install ffmpeg"
      ],
      "metadata": {
        "id": "5iafBC42_D9M"
      },
      "execution_count": null,
      "outputs": []
    },
    {
      "cell_type": "code",
      "source": [
        "import openai"
      ],
      "metadata": {
        "id": "lBoIzsDs_ui5"
      },
      "execution_count": null,
      "outputs": []
    },
    {
      "cell_type": "code",
      "source": [
        "openai.api_key = '' # <- Your openAI API key"
      ],
      "metadata": {
        "id": "cTR8Bk4e_xX3"
      },
      "execution_count": null,
      "outputs": []
    },
    {
      "cell_type": "code",
      "source": [
        "from google.colab import output\n",
        "output.enable_custom_widget_manager()"
      ],
      "metadata": {
        "id": "yNIGixu_9bH1"
      },
      "execution_count": null,
      "outputs": []
    },
    {
      "cell_type": "code",
      "source": [
        "from ipywebrtc import CameraStream, AudioRecorder, WidgetStream\n",
        "\n",
        "# Create an audio stream. Set 'constraints' to get audio without video.\n",
        "audio_stream = CameraStream(constraints=\n",
        "                            {'audio': True, \n",
        "                             'video': False})\n",
        "\n",
        "# Create an audio recorder that uses the audio stream\n",
        "recorder = AudioRecorder(stream=audio_stream)\n",
        "\n",
        "# Hit the \"Record\" button to start recording\n",
        "# \"Recording... \" will be displayed while recording\n",
        "recorder\n"
      ],
      "metadata": {
        "id": "DVN4QgiB-Ppz"
      },
      "execution_count": null,
      "outputs": []
    },
    {
      "cell_type": "code",
      "source": [
        "# Save the recording as a .webm file\n",
        "recorder.save('recording.webm')"
      ],
      "metadata": {
        "id": "ZHkJR1J4-Tja"
      },
      "execution_count": null,
      "outputs": []
    },
    {
      "cell_type": "code",
      "source": [
        "!ffmpeg -i recording.webm -vn -ab 128k -ar 44100 -y recording.mp3"
      ],
      "metadata": {
        "id": "U0x5BYJx_HGh"
      },
      "execution_count": null,
      "outputs": []
    },
    {
      "cell_type": "code",
      "source": [
        "audio_file= open(\"recording.mp3\", \"rb\")\n",
        "transcript = openai.Audio.transcribe(\"whisper-1\", audio_file)"
      ],
      "metadata": {
        "id": "MNuT2KFb_7St"
      },
      "execution_count": null,
      "outputs": []
    },
    {
      "cell_type": "code",
      "source": [
        "dictTranscript = transcript.to_dict()"
      ],
      "metadata": {
        "id": "MftPwCKcADcM"
      },
      "execution_count": null,
      "outputs": []
    },
    {
      "cell_type": "code",
      "source": [
        "dictTranscript"
      ],
      "metadata": {
        "id": "RE89Gi1oAFI7"
      },
      "execution_count": null,
      "outputs": []
    }
  ]
}