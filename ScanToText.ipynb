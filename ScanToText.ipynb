{
  "nbformat": 4,
  "nbformat_minor": 0,
  "metadata": {
    "colab": {
      "private_outputs": true,
      "provenance": [],
      "authorship_tag": "ABX9TyP5m48myE9SbbKkP/bEivCs",
      "include_colab_link": true
    },
    "kernelspec": {
      "name": "python3",
      "display_name": "Python 3"
    },
    "language_info": {
      "name": "python"
    }
  },
  "cells": [
    {
      "cell_type": "markdown",
      "metadata": {
        "id": "view-in-github",
        "colab_type": "text"
      },
      "source": [
        "<a href=\"https://colab.research.google.com/github/Fuenfgeld/LLM-Utility-Cookbook/blob/main/ScanToText.ipynb\" target=\"_parent\"><img src=\"https://colab.research.google.com/assets/colab-badge.svg\" alt=\"Open In Colab\"/></a>"
      ]
    },
    {
      "cell_type": "code",
      "source": [
        "!git clone https://github.com/Fuenfgeld/LLM-Utility-Cookbook.git"
      ],
      "metadata": {
        "id": "-rJlZHv5nPjA"
      },
      "execution_count": null,
      "outputs": []
    },
    {
      "cell_type": "code",
      "execution_count": null,
      "metadata": {
        "id": "BgrXTEyggF7_"
      },
      "outputs": [],
      "source": [
        "!sudo apt install tesseract-ocr\n",
        "!sudo apt-get install -y poppler-utils"
      ]
    },
    {
      "cell_type": "code",
      "source": [
        "%pip install pytesseract\n",
        "%pip install pdf2image"
      ],
      "metadata": {
        "id": "2Z1BIEmNgRxO"
      },
      "execution_count": null,
      "outputs": []
    },
    {
      "cell_type": "code",
      "source": [
        "import pytesseract\n",
        "from PIL import Image"
      ],
      "metadata": {
        "id": "wDOmMvstgn_i"
      },
      "execution_count": null,
      "outputs": []
    },
    {
      "cell_type": "markdown",
      "source": [
        "If you want to upload text from your local computer uncomment the cell below"
      ],
      "metadata": {
        "id": "jPhvLyhvoJbP"
      }
    },
    {
      "cell_type": "code",
      "source": [
        "#from google.colab import files\n",
        "#uploaded = files.upload()"
      ],
      "metadata": {
        "id": "-2Q8ZXpbguk3"
      },
      "execution_count": null,
      "outputs": []
    },
    {
      "cell_type": "code",
      "source": [
        "imagePath ='/content/LLM-Utility-Cookbook/data/DocImage.png'"
      ],
      "metadata": {
        "id": "b_1v08qEhW2g"
      },
      "execution_count": null,
      "outputs": []
    },
    {
      "cell_type": "code",
      "source": [
        "extractedText = pytesseract.image_to_string(Image.open(imagePath))"
      ],
      "metadata": {
        "id": "eCJ2HCXjhdA7"
      },
      "execution_count": null,
      "outputs": []
    },
    {
      "cell_type": "code",
      "source": [
        "extractedText"
      ],
      "metadata": {
        "id": "qCJFA-FbhvA7"
      },
      "execution_count": null,
      "outputs": []
    },
    {
      "cell_type": "markdown",
      "source": [
        "## PDF Scan to image to Text "
      ],
      "metadata": {
        "id": "ILPdFjIja4jA"
      }
    },
    {
      "cell_type": "code",
      "source": [
        "from pdf2image import convert_from_path\n",
        "import os"
      ],
      "metadata": {
        "id": "l1u93-H0hxiZ"
      },
      "execution_count": null,
      "outputs": []
    },
    {
      "cell_type": "code",
      "source": [
        "pdfPath = '/content/LLM-Utility-Cookbook/data/ScanPDF.pdf'\n",
        "outputDirPath = '/content/pdfImages'\n",
        "os.makedirs(outputDirPath,exist_ok=True)\n",
        "\n",
        "images = convert_from_path(pdfPath)\n",
        "for i, image in enumerate(images):\n",
        "  image.save(outputDirPath + '/output' + str(i) + '.jpg', 'JPEG')"
      ],
      "metadata": {
        "id": "xenU9cgubMh6"
      },
      "execution_count": null,
      "outputs": []
    },
    {
      "cell_type": "code",
      "source": [
        "imagesToProcess = os.listdir(outputDirPath)\n",
        "extractedTextPages = {}\n",
        "\n",
        "for tempFileName in imagesToProcess:\n",
        "  tempPath = outputDirPath + '/' + tempFileName\n",
        "  extractedTextPages[tempFileName] = pytesseract.image_to_string(Image.open(tempPath))"
      ],
      "metadata": {
        "id": "6o82Fid6b34E"
      },
      "execution_count": null,
      "outputs": []
    },
    {
      "cell_type": "code",
      "source": [
        "extractedTextPages"
      ],
      "metadata": {
        "id": "dgYocMazd-hn"
      },
      "execution_count": null,
      "outputs": []
    },
    {
      "cell_type": "markdown",
      "source": [
        "If you want tu reexecute the os.makedirs function you have to delete the folder first (use below)"
      ],
      "metadata": {
        "id": "JRFAFRC4f0d6"
      }
    },
    {
      "cell_type": "code",
      "source": [
        "!rm -r /content/pdfImages"
      ],
      "metadata": {
        "id": "w9YPuy_6eAwW"
      },
      "execution_count": null,
      "outputs": []
    }
  ]
}