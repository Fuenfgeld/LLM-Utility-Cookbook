{
  "nbformat": 4,
  "nbformat_minor": 0,
  "metadata": {
    "colab": {
      "private_outputs": true,
      "provenance": [],
      "authorship_tag": "ABX9TyMwvtQkhrqyW1J6GCoTzXBw",
      "include_colab_link": true
    },
    "kernelspec": {
      "name": "python3",
      "display_name": "Python 3"
    },
    "language_info": {
      "name": "python"
    }
  },
  "cells": [
    {
      "cell_type": "markdown",
      "metadata": {
        "id": "view-in-github",
        "colab_type": "text"
      },
      "source": [
        "<a href=\"https://colab.research.google.com/github/Fuenfgeld/LLM-Utility-Cookbook/blob/main/ScanToText.ipynb\" target=\"_parent\"><img src=\"https://colab.research.google.com/assets/colab-badge.svg\" alt=\"Open In Colab\"/></a>"
      ]
    },
    {
      "cell_type": "markdown",
      "source": [
        "# PDFScan to Text\n",
        "This notebook uses Python to apply Optical Character Recognition (OCR) on image and PDF files. It retrieves the necessary files, installs required libraries, extracts text from an image, converts PDFs to images, and performs OCR on these images. "
      ],
      "metadata": {
        "id": "f7UFXayOijH1"
      }
    },
    {
      "cell_type": "markdown",
      "source": [
        "### Git Clone\n",
        "Here we clone the GitHub repository which contains the necessary data and files we will use in the notebook."
      ],
      "metadata": {
        "id": "Q-cb4FfhhEqt"
      }
    },
    {
      "cell_type": "code",
      "source": [
        "!git clone https://github.com/Fuenfgeld/LLM-Utility-Cookbook.git"
      ],
      "metadata": {
        "id": "-rJlZHv5nPjA"
      },
      "execution_count": null,
      "outputs": []
    },
    {
      "cell_type": "markdown",
      "source": [
        "### Install Required Libraries\n",
        "In this section, we install the required libraries for OCR. We use Tesseract for OCR and Poppler-utils for converting PDFs to images."
      ],
      "metadata": {
        "id": "ODs_69KGhJgr"
      }
    },
    {
      "cell_type": "code",
      "execution_count": null,
      "metadata": {
        "id": "BgrXTEyggF7_"
      },
      "outputs": [],
      "source": [
        "!sudo apt install tesseract-ocr\n",
        "!sudo apt-get install -y poppler-utils"
      ]
    },
    {
      "cell_type": "code",
      "source": [
        "%pip install pytesseract\n",
        "%pip install pdf2image"
      ],
      "metadata": {
        "id": "2Z1BIEmNgRxO"
      },
      "execution_count": null,
      "outputs": []
    },
    {
      "cell_type": "code",
      "source": [
        "import pytesseract\n",
        "from PIL import Image"
      ],
      "metadata": {
        "id": "wDOmMvstgn_i"
      },
      "execution_count": null,
      "outputs": []
    },
    {
      "cell_type": "markdown",
      "source": [
        "### Upload File (Optional)\n",
        "In case you want to upload a file from your local computer, uncomment and run this cell. This will prompt you to select a file from your local filesystem."
      ],
      "metadata": {
        "id": "jPhvLyhvoJbP"
      }
    },
    {
      "cell_type": "code",
      "source": [
        "#from google.colab import files\n",
        "#uploaded = files.upload()"
      ],
      "metadata": {
        "id": "-2Q8ZXpbguk3"
      },
      "execution_count": null,
      "outputs": []
    },
    {
      "cell_type": "markdown",
      "source": [
        "# PDF to Image to Text\n",
        "For PDFs, the process is a bit different. Since OCR engines typically work on images, we first convert the PDF to images. Each page of the PDF is converted into a separate image. Then, we apply the OCR engine to each image to extract the text."
      ],
      "metadata": {
        "id": "bXG22c2ShhE_"
      }
    },
    {
      "cell_type": "code",
      "source": [
        "imagePath ='/content/LLM-Utility-Cookbook/data/DocImage.png'"
      ],
      "metadata": {
        "id": "b_1v08qEhW2g"
      },
      "execution_count": null,
      "outputs": []
    },
    {
      "cell_type": "code",
      "source": [
        "extractedText = pytesseract.image_to_string(Image.open(imagePath))"
      ],
      "metadata": {
        "id": "eCJ2HCXjhdA7"
      },
      "execution_count": null,
      "outputs": []
    },
    {
      "cell_type": "code",
      "source": [
        "extractedText"
      ],
      "metadata": {
        "id": "qCJFA-FbhvA7"
      },
      "execution_count": null,
      "outputs": []
    },
    {
      "cell_type": "markdown",
      "source": [
        "### PDF to Image to Text\n",
        "For PDFs, the process is a bit different. Since OCR engines typically work on images, we first convert the PDF to images. Each page of the PDF is converted into a separate image. Then, we apply the OCR engine to each image to extract the text."
      ],
      "metadata": {
        "id": "ILPdFjIja4jA"
      }
    },
    {
      "cell_type": "code",
      "source": [
        "from pdf2image import convert_from_path\n",
        "import os"
      ],
      "metadata": {
        "id": "l1u93-H0hxiZ"
      },
      "execution_count": null,
      "outputs": []
    },
    {
      "cell_type": "markdown",
      "source": [
        "### Convert PDF to Images\n",
        "We convert each page of the PDF into a separate image using the pdf2image library. These images are saved in a specified output directory."
      ],
      "metadata": {
        "id": "aUitjOGYhrbe"
      }
    },
    {
      "cell_type": "code",
      "source": [
        "pdfPath = '/content/LLM-Utility-Cookbook/data/ScanPDF.pdf'\n",
        "outputDirPath = '/content/pdfImages'\n",
        "os.makedirs(outputDirPath,exist_ok=True)\n",
        "\n",
        "images = convert_from_path(pdfPath)\n",
        "for i, image in enumerate(images):\n",
        "  image.save(outputDirPath + '/output' + str(i) + '.jpg', 'JPEG')"
      ],
      "metadata": {
        "id": "xenU9cgubMh6"
      },
      "execution_count": null,
      "outputs": []
    },
    {
      "cell_type": "markdown",
      "source": [
        "### Extract Text from Images\n",
        "We iterate through each image that resulted from the PDF conversion and extract text using Tesseract. The text is saved in a dictionary with the image's filename as the key for easy lookup."
      ],
      "metadata": {
        "id": "JdsUQXMAhvTl"
      }
    },
    {
      "cell_type": "code",
      "source": [
        "imagesToProcess = os.listdir(outputDirPath)\n",
        "extractedTextPages = {}\n",
        "\n",
        "for tempFileName in imagesToProcess:\n",
        "  tempPath = outputDirPath + '/' + tempFileName\n",
        "  extractedTextPages[tempFileName] = pytesseract.image_to_string(Image.open(tempPath))"
      ],
      "metadata": {
        "id": "6o82Fid6b34E"
      },
      "execution_count": null,
      "outputs": []
    },
    {
      "cell_type": "code",
      "source": [
        "extractedTextPages"
      ],
      "metadata": {
        "id": "dgYocMazd-hn"
      },
      "execution_count": null,
      "outputs": []
    },
    {
      "cell_type": "markdown",
      "source": [
        "If you want tu reexecute the os.makedirs function you have to delete the folder first (use below)"
      ],
      "metadata": {
        "id": "JRFAFRC4f0d6"
      }
    },
    {
      "cell_type": "code",
      "source": [
        "!rm -r /content/pdfImages"
      ],
      "metadata": {
        "id": "w9YPuy_6eAwW"
      },
      "execution_count": null,
      "outputs": []
    }
  ]
}